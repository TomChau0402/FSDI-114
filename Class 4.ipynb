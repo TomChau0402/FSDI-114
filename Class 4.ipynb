{
 "cells": [
  {
   "cell_type": "markdown",
   "id": "6f1e7eac-b8d1-46aa-a099-6fcac4210202",
   "metadata": {},
   "source": [
    "# Problem 1\n",
    "\n",
    "## Anagram Check\n",
    "Create a function, `anagram_check`, that receives two arguments of type string and determines if these are anagrams of each other (criteria below), returning `True` if these are anagrams of each other, `False` otherwise.\n",
    "\n",
    "## Criteria\n",
    "two strings are anagrams of each other if, and only if, all the criteria below are met:\n",
    "1. They must use contain the same amount of letters.\n",
    "2. They must use the same letters the same amount of times.\n",
    "\n",
    "###\n",
    "```\n",
    "heart and earth\n",
    "cars and scar\n",
    "rats and star\n",
    "```\n",
    "\n",
    "## Note\n",
    "The three examples above are jsut examples, thre may be other strings (many) that meet the criteria above."
   ]
  },
  {
   "cell_type": "markdown",
   "id": "1485db4d-9abd-438b-b64f-9fdd900b5879",
   "metadata": {},
   "source": [
    "made diagram chart. will add that into the assignment\n"
   ]
  },
  {
   "cell_type": "code",
   "execution_count": 1,
   "id": "91cf5c3e-8a40-4e4e-a8eb-54ba6a2d459d",
   "metadata": {},
   "outputs": [],
   "source": [
    "# Pseudocode\n",
    "# define fucniton 'anagram_check' with params string 1 and string2:\n",
    "# sting1 = string1 without spaces in lowercase\n",
    "# string2 = string 2 withoud spaces in laower case\n",
    "#if the length if teh string is not equal to teh length of string2\n",
    "#return False\n",
    "# otherwise:\n",
    "# d1 = new dictionary\n",
    "# d2 = new dictionary\n",
    "# for each number in range from 0 to the lenght of string1:\n",
    "#if the character at position number in string1 is not in d1\n",
    "#othewise:\n",
    "# add 1 to teh value associated with this chaacter\n",
    "#if the character at postion number in string2 is not in d2:\n",
    "# add that character to d2 as a key and set its value to 1\n",
    "#otherwise:\n",
    "# add 1 to value associated wiht this character\n",
    "#if d1 == d2\n",
    "# return True\n",
    "#otherwise:\n",
    "# return False\n",
    "\n",
    "def anagram_check(string1, string2):\n",
    "    string1 = string1.replace(\" \", \"\").lower()\n",
    "    string2 = string2.replace(\" \", \"\").lower()\n",
    "    \n",
    "    if len(string1) != len(string2):\n",
    "        return False\n",
    "    else:\n",
    "        d1 = {}\n",
    "        d2 = {}\n",
    "        \n",
    "        for number in range(len(string1)):\n",
    "            # For string1\n",
    "            if string1[number] not in d1:\n",
    "                d1[string1[number]] = 1\n",
    "            else:\n",
    "                d1[string1[number]] += 1\n",
    "            \n",
    "            # For string2\n",
    "            if string2[number] not in d2:\n",
    "                d2[string2[number]] = 1\n",
    "            else:\n",
    "                d2[string2[number]] += 1\n",
    "        \n",
    "        if d1 == d2:\n",
    "            return True\n",
    "        else:\n",
    "            return False"
   ]
  },
  {
   "cell_type": "code",
   "execution_count": 2,
   "id": "0bc842e4-3045-4499-990a-3337a517c6c5",
   "metadata": {},
   "outputs": [
    {
     "name": "stdout",
     "output_type": "stream",
     "text": [
      "True\n",
      "False\n"
     ]
    }
   ],
   "source": [
    "print(anagram_check(\"listen\", \"silent\"))  # True\n",
    "print(anagram_check(\"Hello\", \"World\"))    # False"
   ]
  },
  {
   "cell_type": "markdown",
   "id": "6440f33d-b4a3-476f-a3ee-dda2451d93e6",
   "metadata": {},
   "source": [
    "# Final Problem\n",
    "\n",
    "given what you've learned about singly linked list\"\n",
    "1. First: copy the singly linked from class 3, then\n",
    "2. Update it so that it uses a doubley linked node,\n",
    "3. Then Complete teh operations.\n",
    "4. \n",
    "## Note You will need to `refactor` the code to get it to work, as each opeartion is now twice as complex.\n"
   ]
  },
  {
   "cell_type": "code",
   "execution_count": 1,
   "id": "376d5a50-a0f6-4e42-9a10-acfb03b7c1c3",
   "metadata": {},
   "outputs": [
    {
     "name": "stdout",
     "output_type": "stream",
     "text": [
      "10\n"
     ]
    }
   ],
   "source": [
    "class Node:\n",
    "    def __init__(self, data):\n",
    "        self.data = data\n",
    "        self.prev = None\n",
    "        self.next = None\n",
    "\n",
    "class DoublyLinkedList:\n",
    "    def __init__(self):\n",
    "        self.head = None\n",
    "        self.tail = None\n",
    "\n",
    "    def append(self, data):\n",
    "        new_node = Node(data)\n",
    "        if not self.head:\n",
    "            self.head = self.tail = new_node\n",
    "        else:\n",
    "            new_node.prev = self.tail\n",
    "            self.tail.next = new_node\n",
    "            self.tail = new_node\n",
    "\n",
    "    def __iter__(self):\n",
    "        current = self.head\n",
    "        while current:\n",
    "            yield current.data\n",
    "            current = current.next\n",
    "\n",
    "    def delete(self, node):\n",
    "        if not node:\n",
    "            return\n",
    "        if node == self.head:\n",
    "            self.head = node.next\n",
    "        if node == self.tail:\n",
    "            self.tail = node.prev\n",
    "        if node.prev:\n",
    "            node.prev.next = node.next\n",
    "        if node.next:\n",
    "            node.next.prev = node.prev\n",
    "\n",
    "# Usage:\n",
    "dll = DoublyLinkedList()\n",
    "dll.append(10)\n",
    "dll.append(20)\n",
    "dll.delete(dll.head.next)  # Deletes 20\n",
    "for data in dll:\n",
    "    print(data)  # Output: 10"
   ]
  },
  {
   "cell_type": "markdown",
   "id": "ce80e281-a56b-412b-be30-2d1d7de20160",
   "metadata": {},
   "source": [
    "To be honest, I am completely lost with trying to create a DDL. I did use AI to get the answer but that is the only way I can understand how all this works.  I \n",
    "\n",
    "Encapsulate node management to avoid manual pointer errors.\n",
    "Extract common logic (e.g., empty list handling) to follow DRY.\n",
    "Make the DLL iterable for cleaner traversal.\n",
    "Handle edge cases (deleting head/tail, empty list).\n",
    "Consider sentinel nodes to simplify boundary conditions."
   ]
  },
  {
   "cell_type": "code",
   "execution_count": null,
   "id": "35b44c39-0ef2-42be-8e14-bf8b12f66a4d",
   "metadata": {},
   "outputs": [],
   "source": []
  }
 ],
 "metadata": {
  "kernelspec": {
   "display_name": "Python 3 (ipykernel)",
   "language": "python",
   "name": "python3"
  },
  "language_info": {
   "codemirror_mode": {
    "name": "ipython",
    "version": 3
   },
   "file_extension": ".py",
   "mimetype": "text/x-python",
   "name": "python",
   "nbconvert_exporter": "python",
   "pygments_lexer": "ipython3",
   "version": "3.12.3"
  }
 },
 "nbformat": 4,
 "nbformat_minor": 5
}
