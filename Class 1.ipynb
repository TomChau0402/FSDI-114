{
 "cells": [
  {
   "cell_type": "markdown",
   "id": "269ea546-928b-4df1-b4fa-ce425cdaa2ca",
   "metadata": {},
   "source": [
    "Stacks\n",
    "A *stack* is an ordered collections of elements where items are added and removed from the same end, commonly known as the *top*."
   ]
  },
  {
   "cell_type": "code",
   "execution_count": 1,
   "id": "f604519e-72cf-4530-a425-522a0b8ef9e8",
   "metadata": {},
   "outputs": [],
   "source": [
    "# Simplified implementation of Stack (relying on built-ins)\n",
    "\n",
    "class Stack:\n",
    "    def __init__(self):\n",
    "        self.items = []    # this is a python3 list\n",
    "\n",
    "    def push(self, value):\n",
    "        self.items.append(value)\n",
    "\n",
    "    def pop(self):\n",
    "        return self.items.pop()\n",
    "\n",
    "    # Nice to have methods:\n",
    "    def peek(self):\n",
    "        return self.items[len(self.items)-1]\n",
    "\n",
    "    def is_empty(self):\n",
    "        return self.items ==[]\n",
    "\n",
    "    def size(self):\n",
    "        return len(self.items)"
   ]
  },
  {
   "cell_type": "markdown",
   "id": "bd8cd6de-f3f7-4a24-b8a7-32ef4569aca5",
   "metadata": {},
   "source": [
    "# Problem 1\n",
    "\n",
    "Create a function called `invert_str` that receives a string as a parameter and return it in inverted order as a result.\n",
    "\n",
    "## Examples\n",
    "```\n",
    "rafael -> leafar\n",
    "earth -> htrae\n",
    "hello -> olleh\n",
    "world -> dlrow\n",
    "```\n",
    "\n",
    "### Accptance Criteria\n",
    "1. Your final solution *absolutely must* make use of teh stack class above.\n",
    "2. you should, at a minimum, be able to present a design for your solution (pseudocode recommended but you *can use *flowcharts*)."
   ]
  },
  {
   "cell_type": "code",
   "execution_count": 9,
   "id": "2d590640-9cc3-4f26-81f0-66bcef63075f",
   "metadata": {},
   "outputs": [],
   "source": [
    "# def invert_str(string)\n",
    "# pseudocode \n",
    "# create an empty stack\n",
    "# push each character of the string into the stack\n",
    "# create an empty string to build a reverse word result\n",
    "# pop each character from teh stack and append to reverse of string\n",
    "# return the reverse string\n",
    "\n",
    "def invert_str(string):\n",
    "    stack = Stack()\n",
    "\n",
    "    for char in string:\n",
    "        stack.push(char)\n",
    "\n",
    "        inverted_str = \"\"\n",
    "    while not stack.is_empty():\n",
    "        inverted_str += stack.pop()\n",
    "\n",
    "    return inverted_str\n"
   ]
  },
  {
   "cell_type": "code",
   "execution_count": null,
   "id": "c69ce799-0c93-42a3-9c73-b972c089d953",
   "metadata": {},
   "outputs": [],
   "source": []
  }
 ],
 "metadata": {
  "kernelspec": {
   "display_name": "Python 3 (ipykernel)",
   "language": "python",
   "name": "python3"
  },
  "language_info": {
   "codemirror_mode": {
    "name": "ipython",
    "version": 3
   },
   "file_extension": ".py",
   "mimetype": "text/x-python",
   "name": "python",
   "nbconvert_exporter": "python",
   "pygments_lexer": "ipython3",
   "version": "3.12.3"
  }
 },
 "nbformat": 4,
 "nbformat_minor": 5
}
